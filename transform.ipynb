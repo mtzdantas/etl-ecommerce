{
  "cells": [
    {
      "cell_type": "markdown",
      "metadata": {
        "id": "JRzg9CVVo1uD"
      },
      "source": [
        "# Carregar e inspecionar dados"
      ]
    },
    {
      "cell_type": "markdown",
      "metadata": {},
      "source": [
        "O arquivo seguinte foi implementado em um notebook dentro do Google Cloud Plataform, para ser executado dentro do VSCode é necessário fazer autenticação."
      ]
    },
    {
      "cell_type": "code",
      "execution_count": 1,
      "metadata": {
        "executionInfo": {
          "elapsed": 1349,
          "status": "ok",
          "timestamp": 1741368567125,
          "user": {
            "displayName": "",
            "userId": ""
          },
          "user_tz": 180
        },
        "id": "fQJV8Czyo2QJ"
      },
      "outputs": [],
      "source": [
        "# Importanto bibliotecas.\n",
        "from google.cloud import bigquery\n",
        "import pandas as pd"
      ]
    },
    {
      "cell_type": "code",
      "execution_count": 2,
      "metadata": {
        "executionInfo": {
          "elapsed": 3,
          "status": "ok",
          "timestamp": 1741368567125,
          "user": {
            "displayName": "",
            "userId": ""
          },
          "user_tz": 180
        },
        "id": "95nbSfFGo309"
      },
      "outputs": [],
      "source": [
        "# Definindo ID's.\n",
        "project_id = 'pipeline-etl-ecommerce'\n",
        "dataset_id = 'etl_ecommerce'\n",
        "table_id = 'tb_compras'\n",
        "\n",
        "client = bigquery.Client(project=project_id)\n",
        "\n",
        "# Selecionando tabela.\n",
        "query = f\"\"\"\n",
        "    SELECT * FROM `{project_id}.{dataset_id}.{table_id}`\n",
        "\"\"\""
      ]
    },
    {
      "cell_type": "code",
      "execution_count": 3,
      "metadata": {
        "executionInfo": {
          "elapsed": 3831,
          "status": "ok",
          "timestamp": 1741368570954,
          "user": {
            "displayName": "",
            "userId": ""
          },
          "user_tz": 180
        },
        "id": "edmLcbbKo5Dz"
      },
      "outputs": [],
      "source": [
        "# Transformando tabela em DataFrame.\n",
        "df = client.query(query).to_dataframe()"
      ]
    },
    {
      "cell_type": "markdown",
      "metadata": {
        "id": "5eJDo1xgpFie"
      },
      "source": [
        "# Limpeza e Manipulação dos Dados"
      ]
    },
    {
      "cell_type": "code",
      "execution_count": 4,
      "metadata": {
        "executionInfo": {
          "elapsed": 3,
          "status": "ok",
          "timestamp": 1741368570955,
          "user": {
            "displayName": "",
            "userId": ""
          },
          "user_tz": 180
        },
        "id": "orjpjkMXpBbT"
      },
      "outputs": [],
      "source": [
        "# Excluindo colunas que não serão utilizadas para o caso.\n",
        "df = df.drop(columns=['InvoiceNo', 'StockCode', 'CustomerID'])"
      ]
    },
    {
      "cell_type": "code",
      "execution_count": 5,
      "metadata": {
        "executionInfo": {
          "elapsed": 2,
          "status": "ok",
          "timestamp": 1741368570955,
          "user": {
            "displayName": "",
            "userId": ""
          },
          "user_tz": 180
        },
        "id": "CQGLS6MrpJIb"
      },
      "outputs": [],
      "source": [
        "# Substituindo valores ausentes da coluna 'Description'.\n",
        "df['Description'] = df['Description'].replace('?', 'Not informed').fillna('Not informed')"
      ]
    },
    {
      "cell_type": "code",
      "execution_count": 6,
      "metadata": {
        "executionInfo": {
          "elapsed": 5010,
          "status": "ok",
          "timestamp": 1741368576251,
          "user": {
            "displayName": "",
            "userId": ""
          },
          "user_tz": 180
        },
        "id": "c7KvguRGpLr3"
      },
      "outputs": [],
      "source": [
        "# Transformando data em formato datetime.\n",
        "df['InvoiceDate'] = pd.to_datetime(df['InvoiceDate'], format='%m/%d/%Y %H:%M')\n",
        "\n",
        "# Criando colunas de mês e ano.\n",
        "df['Month'] = df['InvoiceDate'].dt.strftime('%B')\n",
        "df['Year'] = df['InvoiceDate'].dt.year"
      ]
    },
    {
      "cell_type": "code",
      "execution_count": 7,
      "metadata": {
        "executionInfo": {
          "elapsed": 293,
          "status": "ok",
          "timestamp": 1741368576542,
          "user": {
            "displayName": "",
            "userId": ""
          },
          "user_tz": 180
        },
        "id": "n29ScpkdpSCJ"
      },
      "outputs": [],
      "source": [
        "# Dropando duplicatas\n",
        "df = df.drop_duplicates()"
      ]
    },
    {
      "cell_type": "code",
      "execution_count": 8,
      "metadata": {
        "executionInfo": {
          "elapsed": 676,
          "status": "ok",
          "timestamp": 1741368577216,
          "user": {
            "displayName": "",
            "userId": ""
          },
          "user_tz": 180
        },
        "id": "1i328FJepaLk"
      },
      "outputs": [],
      "source": [
        "# Substituindo valores negativos por 0 na coluna Quantity.\n",
        "df['Quantity'] = df['Quantity'].apply(lambda x: 0 if x < 0 else x)\n",
        "\n",
        "# Substituindo valores negativos por 0 na coluna UnitPrice.\n",
        "df['UnitPrice'] = df['UnitPrice'].apply(lambda x: 0 if x < 0 else x)"
      ]
    },
    {
      "cell_type": "code",
      "execution_count": 9,
      "metadata": {
        "executionInfo": {
          "elapsed": 3,
          "status": "ok",
          "timestamp": 1741368577217,
          "user": {
            "displayName": "",
            "userId": ""
          },
          "user_tz": 180
        },
        "id": "JJF7e6sopbXt"
      },
      "outputs": [],
      "source": [
        "# Criando ID.\n",
        "df = df.reset_index()"
      ]
    },
    {
      "cell_type": "code",
      "execution_count": 10,
      "metadata": {
        "executionInfo": {
          "elapsed": 3,
          "status": "ok",
          "timestamp": 1741368577217,
          "user": {
            "displayName": "",
            "userId": ""
          },
          "user_tz": 180
        },
        "id": "CO65kxkIpdSG"
      },
      "outputs": [],
      "source": [
        "clean_table_id = 'tb_compras_clean'\n",
        "caminho_destino = f'{project_id}.{dataset_id}.{clean_table_id}'"
      ]
    },
    {
      "cell_type": "code",
      "execution_count": 11,
      "metadata": {
        "colab": {
          "base_uri": "https://localhost:8080/"
        },
        "executionInfo": {
          "elapsed": 7554,
          "status": "ok",
          "timestamp": 1741368584769,
          "user": {
            "displayName": "",
            "userId": ""
          },
          "user_tz": 180
        },
        "id": "QPnU_QJcpeYd",
        "outputId": "9b52333e-0baa-4b2c-d1ac-839ca40b631b"
      },
      "outputs": [
        {
          "name": "stderr",
          "output_type": "stream",
          "text": [
            "<ipython-input-11-52677eeb262d>:2: FutureWarning: to_gbq is deprecated and will be removed in a future version. Please use pandas_gbq.to_gbq instead: https://pandas-gbq.readthedocs.io/en/latest/api.html#pandas_gbq.to_gbq\n",
            "  df.to_gbq(destination_table=caminho_destino, project_id=project_id, if_exists='replace')\n",
            "100%|██████████| 1/1 [00:00<00:00, 9554.22it/s]\n"
          ]
        }
      ],
      "source": [
        "# Exportando tabela.\n",
        "df.to_gbq(destination_table=caminho_destino, project_id=project_id, if_exists='replace')"
      ]
    },
    {
      "cell_type": "markdown",
      "metadata": {
        "id": "oMvYmhMppD3_"
      },
      "source": [
        "# Calculando métricas"
      ]
    },
    {
      "cell_type": "code",
      "execution_count": 12,
      "metadata": {
        "executionInfo": {
          "elapsed": 225,
          "status": "ok",
          "timestamp": 1741368650792,
          "user": {
            "displayName": "",
            "userId": ""
          },
          "user_tz": 180
        },
        "id": "-DQfOp9-p_ka"
      },
      "outputs": [],
      "source": [
        "# Nova tabela\n",
        "table_id = 'tb_compras_clean'\n",
        "\n",
        "# Selecionando tabela.\n",
        "query = f\"\"\"\n",
        "    SELECT * FROM `{project_id}.{dataset_id}.{table_id}`\n",
        "\"\"\""
      ]
    },
    {
      "cell_type": "code",
      "execution_count": 13,
      "metadata": {
        "executionInfo": {
          "elapsed": 5339,
          "status": "ok",
          "timestamp": 1741368660760,
          "user": {
            "displayName": "",
            "userId": ""
          },
          "user_tz": 180
        },
        "id": "cH1Aa8p7qN4b"
      },
      "outputs": [],
      "source": [
        "# Transformando tabela em DataFrame.\n",
        "df = client.query(query).to_dataframe()"
      ]
    },
    {
      "cell_type": "markdown",
      "metadata": {
        "id": "tFPpNdSnqTbl"
      },
      "source": [
        "### 1. Receita Total"
      ]
    },
    {
      "cell_type": "code",
      "execution_count": 14,
      "metadata": {
        "colab": {
          "base_uri": "https://localhost:8080/"
        },
        "executionInfo": {
          "elapsed": 5109,
          "status": "ok",
          "timestamp": 1741368686206,
          "user": {
            "displayName": "",
            "userId": ""
          },
          "user_tz": 180
        },
        "id": "w0kcLPTYqUWc",
        "outputId": "5f6c8ca1-b966-4f3c-dbdc-e4de8099d523"
      },
      "outputs": [
        {
          "name": "stderr",
          "output_type": "stream",
          "text": [
            "<ipython-input-14-e6cb83e547f7>:8: FutureWarning: to_gbq is deprecated and will be removed in a future version. Please use pandas_gbq.to_gbq instead: https://pandas-gbq.readthedocs.io/en/latest/api.html#pandas_gbq.to_gbq\n",
            "  df_total_vendas.to_gbq(destination_table=caminho_destino, project_id=project_id, if_exists='replace')\n",
            "100%|██████████| 1/1 [00:00<00:00, 3132.42it/s]\n"
          ]
        }
      ],
      "source": [
        "# Criando coluna com Total de Vendas.\n",
        "df['TotalSales'] = (df['Quantity'] * df['UnitPrice']).round(2)\n",
        "\n",
        "total_vendas = round(df['TotalSales'].sum(), 2)\n",
        "df_total_vendas = pd.DataFrame({'TotalSales': [total_vendas]})\n",
        "table_id = 'tb_receita'\n",
        "caminho_destino = f'{project_id}.{dataset_id}.{table_id}'\n",
        "df_total_vendas.to_gbq(destination_table=caminho_destino, project_id=project_id, if_exists='replace')"
      ]
    },
    {
      "cell_type": "markdown",
      "metadata": {
        "id": "JvWUbV3SqXxA"
      },
      "source": [
        "### 2. Número de vendas por região"
      ]
    },
    {
      "cell_type": "code",
      "execution_count": 15,
      "metadata": {
        "colab": {
          "base_uri": "https://localhost:8080/"
        },
        "executionInfo": {
          "elapsed": 5797,
          "status": "ok",
          "timestamp": 1741368700976,
          "user": {
            "displayName": "",
            "userId": ""
          },
          "user_tz": 180
        },
        "id": "F1iPSQC1qWBw",
        "outputId": "8f9be25c-dedf-43a7-bee8-0729cec54521"
      },
      "outputs": [
        {
          "name": "stderr",
          "output_type": "stream",
          "text": [
            "<ipython-input-15-5ca279d300df>:5: FutureWarning: to_gbq is deprecated and will be removed in a future version. Please use pandas_gbq.to_gbq instead: https://pandas-gbq.readthedocs.io/en/latest/api.html#pandas_gbq.to_gbq\n",
            "  vendas_pais.to_gbq(destination_table=caminho_destino, project_id=project_id, if_exists='replace')\n",
            "100%|██████████| 1/1 [00:00<00:00, 7206.71it/s]\n"
          ]
        }
      ],
      "source": [
        "# Calculando número de vendas por país.\n",
        "vendas_pais = df.groupby('Country')['TotalSales'].sum().reset_index()\n",
        "table_id = 'tb_vendas_regiao'\n",
        "caminho_destino = f'{project_id}.{dataset_id}.{table_id}'\n",
        "vendas_pais.to_gbq(destination_table=caminho_destino, project_id=project_id, if_exists='replace')"
      ]
    },
    {
      "cell_type": "markdown",
      "metadata": {
        "id": "3edYKoB8qawj"
      },
      "source": [
        "### 3. Vendas por mês"
      ]
    },
    {
      "cell_type": "code",
      "execution_count": 16,
      "metadata": {
        "executionInfo": {
          "elapsed": 222,
          "status": "ok",
          "timestamp": 1741368710473,
          "user": {
            "displayName": "",
            "userId": ""
          },
          "user_tz": 180
        },
        "id": "X9qvmY6nqZck"
      },
      "outputs": [],
      "source": [
        "# Transformando coluna de mês em tipo categórico para ordenação.\n",
        "ordem_meses = ['January', 'February', 'March', 'April', 'May', 'June', 'July', 'August', 'September', 'October', 'November', 'December']\n",
        "df['Month'] = pd.Categorical(df['Month'], categories=ordem_meses, ordered=True)"
      ]
    },
    {
      "cell_type": "code",
      "execution_count": 17,
      "metadata": {
        "colab": {
          "base_uri": "https://localhost:8080/"
        },
        "executionInfo": {
          "elapsed": 5354,
          "status": "ok",
          "timestamp": 1741368717636,
          "user": {
            "displayName": "",
            "userId": ""
          },
          "user_tz": 180
        },
        "id": "kQHkDrQ6qdKk",
        "outputId": "ce0bfca4-926d-49ec-fbb9-6505aaee2164"
      },
      "outputs": [
        {
          "name": "stderr",
          "output_type": "stream",
          "text": [
            "<ipython-input-17-9c04c684363a>:2: FutureWarning: The default of observed=False is deprecated and will be changed to True in a future version of pandas. Pass observed=False to retain current behavior or observed=True to adopt the future default and silence this warning.\n",
            "  vendas_mes_ano = df.groupby(['Year', 'Month'])['TotalSales'].sum().reset_index()\n",
            "<ipython-input-17-9c04c684363a>:5: FutureWarning: to_gbq is deprecated and will be removed in a future version. Please use pandas_gbq.to_gbq instead: https://pandas-gbq.readthedocs.io/en/latest/api.html#pandas_gbq.to_gbq\n",
            "  vendas_mes_ano.to_gbq(destination_table=caminho_destino, project_id=project_id, if_exists='replace')\n",
            "100%|██████████| 1/1 [00:00<00:00, 9510.89it/s]\n"
          ]
        }
      ],
      "source": [
        "# Calculando número de vendas por mês/ano.\n",
        "vendas_mes_ano = df.groupby(['Year', 'Month'])['TotalSales'].sum().reset_index()\n",
        "table_id = 'tb_vendas_mes_ano'\n",
        "caminho_destino = f'{project_id}.{dataset_id}.{table_id}'\n",
        "vendas_mes_ano.to_gbq(destination_table=caminho_destino, project_id=project_id, if_exists='replace')"
      ]
    },
    {
      "cell_type": "markdown",
      "metadata": {
        "id": "WMJwHq8yqfMz"
      },
      "source": [
        "### 4. Vendas por categoria de produto"
      ]
    },
    {
      "cell_type": "code",
      "execution_count": 18,
      "metadata": {
        "colab": {
          "base_uri": "https://localhost:8080/"
        },
        "executionInfo": {
          "elapsed": 4953,
          "status": "ok",
          "timestamp": 1741368728836,
          "user": {
            "displayName": "",
            "userId": ""
          },
          "user_tz": 180
        },
        "id": "IbXEhRT9qdsE",
        "outputId": "4fbef400-56a8-4170-b8b2-8f63f512db5f"
      },
      "outputs": [
        {
          "name": "stderr",
          "output_type": "stream",
          "text": [
            "<ipython-input-18-e08c4e088686>:6: FutureWarning: to_gbq is deprecated and will be removed in a future version. Please use pandas_gbq.to_gbq instead: https://pandas-gbq.readthedocs.io/en/latest/api.html#pandas_gbq.to_gbq\n",
            "  contagem_description.to_gbq(destination_table=caminho_destino, project_id=project_id, if_exists='replace')\n",
            "100%|██████████| 1/1 [00:00<00:00, 6594.82it/s]\n"
          ]
        }
      ],
      "source": [
        "# Calcular a contagem de cada valor na coluna 'Description'.\n",
        "contagem_description = df['Description'].value_counts().head(10).reset_index()\n",
        "contagem_description.columns = ['Description', 'Quantity']\n",
        "table_id = 'tb_vendas_categoria'\n",
        "caminho_destino = f'{project_id}.{dataset_id}.{table_id}'\n",
        "contagem_description.to_gbq(destination_table=caminho_destino, project_id=project_id, if_exists='replace')"
      ]
    },
    {
      "cell_type": "code",
      "execution_count": null,
      "metadata": {
        "id": "gOTvxmUiqgbC"
      },
      "outputs": [],
      "source": []
    }
  ],
  "metadata": {
    "colab": {
      "cell_execution_strategy": "setup",
      "provenance": []
    },
    "kernelspec": {
      "display_name": "base",
      "language": "python",
      "name": "python3"
    },
    "language_info": {
      "name": "python",
      "version": "3.9.13"
    }
  },
  "nbformat": 4,
  "nbformat_minor": 0
}
